{
 "cells": [
  {
   "cell_type": "markdown",
   "metadata": {},
   "source": [
    "First let's write the Sobel filter function that we will use to generate the training data. "
   ]
  },
  {
   "cell_type": "code",
   "execution_count": 286,
   "metadata": {},
   "outputs": [],
   "source": [
    "import torch\n",
    "import torch.nn as nn\n",
    "import torchvision.transforms.functional as TF\n",
    "from torchvision.datasets import MNIST\n",
    "from torchvision.transforms import Compose, ToTensor, Normalize\n",
    "from torch.utils.data import Dataset, DataLoader\n"
   ]
  },
  {
   "cell_type": "code",
   "execution_count": 299,
   "metadata": {},
   "outputs": [],
   "source": [
    "from torchvision.datasets import ImageNet"
   ]
  },
  {
   "cell_type": "markdown",
   "metadata": {},
   "source": [
    "## First we define the Sobel Filter function\n",
    "\n",
    "There are some decisions being made here: \n",
    "\n",
    "- We first handle the padding manually. Since the Sobel filter operator is calculating a gradient of the image, padding with a constant value would introduce potentially large spurious gradients. Instead, we pad using the closest pixel values at the edges, which should have a smaller effect on the local approximation of the gradient. We do this manually because the functional `conv2d` implementation does not have a \"replicate\" mode for the padding. \n",
    "- We are using the functional `conv2d` implementation because it is the easiest way to implement a convolution with predetermined kernel weights. \n",
    "- We are caluating both outputs of the Sobel filter: $G_{\\rm mag}$ and $G_{\\rm dir}$. However, in the training we will only use $G_{\\rm mag}$."
   ]
  },
  {
   "cell_type": "code",
   "execution_count": 314,
   "metadata": {},
   "outputs": [],
   "source": [
    "def sobel_filter(img):\n",
    "    # Do closest-value padding on images\n",
    "    img = torch.nn.functional.pad(img, (1, 1, 1, 1), mode=\"replicate\")\n",
    "\n",
    "    sobel_x = torch.tensor([[-1, 0, 1], [-2, 0, 2], [-1, 0, 1]], dtype=torch.float32)\n",
    "    sobel_y = torch.tensor([[-1, -2, -1], [0, 0, 0], [1, 2, 1]], dtype=torch.float32)\n",
    "    sobel_x = sobel_x.view((1, 1, 3, 3)) # Reshape filter for convolution\n",
    "    sobel_y = sobel_y.view((1, 1, 3, 3))\n",
    "\n",
    "    # Apply Sobel filters\n",
    "    G_x = nn.functional.conv2d(img, sobel_x, padding=0)\n",
    "    G_y = nn.functional.conv2d(img, sobel_y, padding=0)\n",
    "\n",
    "    # Compute gradient magnitude and direction\n",
    "    G_mag = torch.sqrt(torch.pow(G_x, 2) + torch.pow(G_y, 2))\n",
    "    G_dir = torch.atan2(G_y, G_x)\n",
    "\n",
    "    return G_mag, G_dir\n",
    "\n",
    "# Define custom Sobel dataset class\n",
    "class SobelDataset(Dataset):\n",
    "    def __init__(self, data):\n",
    "        self.data = data\n",
    "\n",
    "    def __len__(self):\n",
    "        return len(self.data)\n",
    "\n",
    "    def __getitem__(self, idx):\n",
    "        x = self.data[idx][0]  # Assumes a single channel\n",
    "        y, _ = sobel_filter(x)  # Apply Sobel filter to input image\n",
    "        return x, y\n",
    "\n",
    "# Define custom convolutional neural network\n",
    "class SobelNet(nn.Module):\n",
    "    def __init__(self):\n",
    "        super(SobelNet, self).__init__()\n",
    "        self.conv1 = nn.Conv2d(1, 2, 3, stride=1, padding=1, padding_mode=\"replicate\")\n",
    "        self.conv2 = nn.Conv2d(2, 2, 3, stride=1, padding=1, padding_mode=\"replicate\")\n",
    "        self.conv3 = nn.Conv2d(2, 1, 3, stride=1, padding=1, padding_mode=\"replicate\")\n",
    "\n",
    "    def forward(self, x):\n",
    "        x = torch.relu(self.conv1(x))\n",
    "        x = torch.relu(self.conv2(x))\n",
    "        x = self.conv3(x)\n",
    "        return x\n",
    "\n",
    "# Define training function\n",
    "def train(net, train_loader, optimizer, criterion, num_epochs):\n",
    "    for epoch in range(num_epochs):\n",
    "        running_loss = 0.0\n",
    "        for i, (inputs, labels) in enumerate(train_loader):\n",
    "            optimizer.zero_grad()\n",
    "            outputs = net(inputs)\n",
    "            loss = criterion(outputs, labels)\n",
    "            loss.backward()\n",
    "            optimizer.step()\n",
    "            running_loss += loss.item()\n",
    "        print(f\"Epoch {epoch + 1} loss: {running_loss / len(train_loader)}\")\n",
    "\n",
    "# Set device to CPU or GPU\n",
    "devices = \"cpu\"\n",
    "if torch.cuda.is_available():\n",
    "    device = \"cuda\"\n",
    "if torch.backends.mps.is_available():\n",
    "    device = \"mps\"\n",
    "\n",
    "device = torch.device(\"cuda\" if torch.cuda.is_available() else \"cpu\")\n",
    "device = torch.device(\"mps\" if torch.backends.mps.is_available() else \"cpu\")\n",
    "\n",
    "# Load MNIST dataset\n",
    "mnist_train = MNIST('data', train=True, download=True, transform=Compose([ToTensor(), Normalize((0.5,), (0.5,))]))\n",
    "\n",
    "# Create Sobel dataset from MNIST\n",
    "sobel_train = SobelDataset(mnist_train)\n",
    "\n",
    "# Create data loader from Sobel dataset\n",
    "train_loader = DataLoader(sobel_train, batch_size=128, shuffle=True)"
   ]
  },
  {
   "cell_type": "code",
   "execution_count": 315,
   "metadata": {},
   "outputs": [],
   "source": [
    "model = SobelNet()\n",
    "optimizer = torch.optim.SGD(model.parameters(), lr=0.01, momentum=0.9)\n",
    "criterion = nn.MSELoss()\n",
    "num_epochs = 10"
   ]
  },
  {
   "cell_type": "code",
   "execution_count": 316,
   "metadata": {},
   "outputs": [],
   "source": [
    "idx, (image, filtered_image) = next(enumerate(train_loader)) "
   ]
  },
  {
   "cell_type": "code",
   "execution_count": 317,
   "metadata": {},
   "outputs": [
    {
     "data": {
      "text/plain": [
       "<matplotlib.image.AxesImage at 0x1631d5660>"
      ]
     },
     "execution_count": 317,
     "metadata": {},
     "output_type": "execute_result"
    },
    {
     "data": {
      "image/png": "[encoded data removed]",
      "text/plain": [
       "<Figure size 640x480 with 2 Axes>"
      ]
     },
     "metadata": {},
     "output_type": "display_data"
    }
   ],
   "source": [
    "fig, axes = plt.subplots(ncols=2, nrows=1)\n",
    "axes[0].imshow(image[1, 0])\n",
    "axes[1].imshow(filtered_image[1, 0])"
   ]
  },
  {
   "cell_type": "code",
   "execution_count": 318,
   "metadata": {},
   "outputs": [
    {
     "name": "stdout",
     "output_type": "stream",
     "text": [
      "Epoch 1 loss: 1.1289241716805807\n",
      "Epoch 2 loss: 0.7119204400699022\n",
      "Epoch 3 loss: 0.6963041610300922\n",
      "Epoch 4 loss: 0.6700644854035205\n",
      "Epoch 5 loss: 0.6688586367981266\n",
      "Epoch 6 loss: 0.6537583716896805\n",
      "Epoch 7 loss: 0.6463723829560188\n",
      "Epoch 8 loss: 0.6459144961351017\n"
     ]
    }
   ],
   "source": [
    "train(model, train_loader, optimizer, criterion, num_epochs)"
   ]
  },
  {
   "cell_type": "code",
   "execution_count": 309,
   "metadata": {},
   "outputs": [],
   "source": [
    "x = next(enumerate(train_loader))[1]"
   ]
  },
  {
   "cell_type": "code",
   "execution_count": 310,
   "metadata": {},
   "outputs": [],
   "source": [
    "with torch.no_grad():\n",
    "    test_x  = model(x[0][1, :])[0]"
   ]
  },
  {
   "cell_type": "code",
   "execution_count": 311,
   "metadata": {},
   "outputs": [
    {
     "data": {
      "text/plain": [
       "<matplotlib.image.AxesImage at 0x162f68a60>"
      ]
     },
     "execution_count": 311,
     "metadata": {},
     "output_type": "execute_result"
    },
    {
     "data": {
      "image/png": "[encoded data removed]",
      "text/plain": [
       "<Figure size 640x480 with 1 Axes>"
      ]
     },
     "metadata": {},
     "output_type": "display_data"
    }
   ],
   "source": [
    "plt.imshow(test_x)"
   ]
  },
  {
   "cell_type": "code",
   "execution_count": 313,
   "metadata": {},
   "outputs": [
    {
     "data": {
      "text/plain": [
       "<matplotlib.image.AxesImage at 0x163177a30>"
      ]
     },
     "execution_count": 313,
     "metadata": {},
     "output_type": "execute_result"
    },
    {
     "data": {
      "image/png": "[encoded data removed]",
      "text/plain": [
       "<Figure size 640x480 with 1 Axes>"
      ]
     },
     "metadata": {},
     "output_type": "display_data"
    }
   ],
   "source": [
    "plt.imshow(x[1][1, 0])"
   ]
  },
  {
   "cell_type": "code",
   "execution_count": 241,
   "metadata": {},
   "outputs": [
    {
     "data": {
      "text/plain": [
       "torch.Size([28, 28])"
      ]
     },
     "execution_count": 241,
     "metadata": {},
     "output_type": "execute_result"
    }
   ],
   "source": [
    "x[1][1, 0].shape"
   ]
  },
  {
   "cell_type": "code",
   "execution_count": 207,
   "metadata": {},
   "outputs": [
    {
     "data": {
      "text/plain": [
       "(array([470.,  19.,  22.,  22., 115.,  17.,  18.,  26.,  28.,  47.]),\n",
       " array([0.        , 0.85521853, 1.71043706, 2.56565547, 3.42087412,\n",
       "        4.27609253, 5.13131094, 5.98652935, 6.84174824, 7.69696665,\n",
       "        8.55218506]),\n",
       " <BarContainer object of 10 artists>)"
      ]
     },
     "execution_count": 207,
     "metadata": {},
     "output_type": "execute_result"
    },
    {
     "data": {
      "image/png": "[encoded data removed]",
      "text/plain": [
       "<Figure size 640x480 with 1 Axes>"
      ]
     },
     "metadata": {},
     "output_type": "display_data"
    }
   ],
   "source": [
    "plt.hist(x[1][1, 0].numpy().flatten())"
   ]
  },
  {
   "cell_type": "code",
   "execution_count": 208,
   "metadata": {},
   "outputs": [
    {
     "data": {
      "text/plain": [
       "(array([  0.,   0.,   0.,   0.,   0., 784.,   0.,   0.,   0.,   0.]),\n",
       " array([1.50225878, 1.6022588 , 1.70225883, 1.80225873, 1.90225875,\n",
       "        2.00225878, 2.10225868, 2.20225883, 2.30225873, 2.40225887,\n",
       "        2.50225878]),\n",
       " <BarContainer object of 10 artists>)"
      ]
     },
     "execution_count": 208,
     "metadata": {},
     "output_type": "execute_result"
    },
    {
     "data": {
      "image/png": "[encoded data removed]",
      "text/plain": [
       "<Figure size 640x480 with 1 Axes>"
      ]
     },
     "metadata": {},
     "output_type": "display_data"
    }
   ],
   "source": [
    "plt.hist(test_x.numpy().flatten())"
   ]
  },
  {
   "cell_type": "code",
   "execution_count": 274,
   "metadata": {},
   "outputs": [
    {
     "data": {
      "text/plain": [
       "torch.Size([128, 1, 28, 28])"
      ]
     },
     "execution_count": 274,
     "metadata": {},
     "output_type": "execute_result"
    }
   ],
   "source": [
    "image.shape"
   ]
  },
  {
   "cell_type": "code",
   "execution_count": 283,
   "metadata": {},
   "outputs": [
    {
     "data": {
      "text/plain": [
       "<matplotlib.image.AxesImage at 0x161bf7820>"
      ]
     },
     "execution_count": 283,
     "metadata": {},
     "output_type": "execute_result"
    },
    {
     "data": {
      "image/png": "[encoded data removed]",
      "text/plain": [
       "<Figure size 640x480 with 1 Axes>"
      ]
     },
     "metadata": {},
     "output_type": "display_data"
    }
   ],
   "source": [
    "plt.imshow(torch.nn.functional.pad(image, (1, 1, 1, 1), mode=\"replicate\")[0, 0])"
   ]
  },
  {
   "cell_type": "code",
   "execution_count": 284,
   "metadata": {},
   "outputs": [
    {
     "data": {
      "text/plain": [
       "<matplotlib.image.AxesImage at 0x162933310>"
      ]
     },
     "execution_count": 284,
     "metadata": {},
     "output_type": "execute_result"
    },
    {
     "data": {
      "image/png": "[encoded data removed]",
      "text/plain": [
       "<Figure size 640x480 with 1 Axes>"
      ]
     },
     "metadata": {},
     "output_type": "display_data"
    }
   ],
   "source": [
    "plt.imshow(torch.nn.functional.pad(image, (1, 1, 1, 1), mode=\"constant\")[0, 0])"
   ]
  },
  {
   "cell_type": "code",
   "execution_count": null,
   "metadata": {},
   "outputs": [],
   "source": []
  }
 ],
 "metadata": {
  "kernelspec": {
   "display_name": "Python 3.10.6 ('torch')",
   "language": "python",
   "name": "python3"
  },
  "language_info": {
   "codemirror_mode": {
    "name": "ipython",
    "version": 3
   },
   "file_extension": ".py",
   "mimetype": "text/x-python",
   "name": "python",
   "nbconvert_exporter": "python",
   "pygments_lexer": "ipython3",
   "version": "3.10.6"
  },
  "orig_nbformat": 4,
  "vscode": {
   "interpreter": {
    "hash": "f1b2f0f66ae42acd813b94e240ba372c14b3639d81f071500807879f7f77cf5f"
   }
  }
 },
 "nbformat": 4,
 "nbformat_minor": 2
}
